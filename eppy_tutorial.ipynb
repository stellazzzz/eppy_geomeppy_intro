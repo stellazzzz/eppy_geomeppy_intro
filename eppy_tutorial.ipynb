{
 "cells": [
  {
   "cell_type": "markdown",
   "metadata": {},
   "source": [
    "# Intro to eppy_tutorial\n",
    "----\n",
    "#####  Eppy is a scripting language to Energyplus. Eppy puts the idd and idf file into a python data structure, and uses the power of python to edit idf files. \n",
    "##### This tutorial is intended to help you take the first step in using eppy to access idf files and run Energyplus. The demo file is a quick introduction of some tasks that eppy could achive:\n",
    "* read an idf file with eppy\n",
    "* access idf objects: **material, consatruction, buidling surfaces, building and zone**\n",
    "    * view these idf objects\n",
    "    * add new idf objects\n",
    "    * modify idf objects\n",
    "* check range with **for** loop\n",
    "* batch edit with **eppy_json**\n",
    "* save modified idf files\n",
    "* run energy plus on eppy\n",
    "------"
   ]
  },
  {
   "cell_type": "markdown",
   "metadata": {},
   "source": [
    "### Install eppy\n",
    "\n",
    "As we already covered in the eppy/geomeppy installation tutorial, you need to install geomeppy by **pip install eppy** in your **conda** environment, if you have already done so, skip this step."
   ]
  },
  {
   "cell_type": "markdown",
   "metadata": {
    "jupyter": {
     "outputs_hidden": true
    }
   },
   "source": [
    "pip install eppy"
   ]
  },
  {
   "cell_type": "markdown",
   "metadata": {},
   "source": [
    "----"
   ]
  },
  {
   "cell_type": "markdown",
   "metadata": {},
   "source": [
    "### Install EnergyPlus\n",
    "\n",
    "Next install **EnergyPlus** if you have not done so. \n",
    "\n",
    "**EnergyPlus version**: This tutorial will be running with EnergyPlus 9.1.0. But if you are using other versions, don't worry, geomeppy will also work for your EnergyPlus version. Just remember to change the idd path properly to your version, and keep using one version of EnergyPlus in one jupyter launcher. Otherwise you would see an error messege like this:"
   ]
  },
  {
   "cell_type": "markdown",
   "metadata": {},
   "source": [
    "<img src=\"images/idderro.png\" width='80%'>"
   ]
  },
  {
   "cell_type": "markdown",
   "metadata": {},
   "source": [
    "Next, get the idd filepath from the EnergyPlus installation folder. This tutorial is on Mac, so the idd filepath would be: '/Applications/EnergyPlus-9-1-0/Energy+.idd'. \n",
    "On windows the path would usually be: 'C:/EnergyPlusV9-1-0', and on Linux '/usr/local/EnergyPlus-9-1-0'."
   ]
  },
  {
   "cell_type": "markdown",
   "metadata": {},
   "source": [
    "### Run eppy:\n",
    "\n",
    "Next, we are going to import idf file to **eppy**. \n",
    "\n",
    "Pick an **idf file** that you wish you access. This tutorial uses the 'Minimal.idf' file from the energy plus example folder: '/Applications/EnergyPlus-9-1-0/ExampleFiles/Minimal.idf'.\n",
    "\n",
    "With these ready, in the python 3 environment, type: "
   ]
  },
  {
   "cell_type": "code",
   "execution_count": null,
   "metadata": {},
   "outputs": [],
   "source": [
    "# set up file path for idf in eppy\n",
    "from eppy.modeleditor import IDF\n",
    "IDF.setiddname('/Applications/EnergyPlus-9-1-0/Energy+.idd')\n",
    "idf= IDF('/Applications/EnergyPlus-9-1-0/ExampleFiles/VentilatedSlab.idf')"
   ]
  },
  {
   "cell_type": "markdown",
   "metadata": {},
   "source": [
    "If you are dealing with multiple idf files, you can name them with name that you perfer, such as idf1, idf2, etc."
   ]
  },
  {
   "cell_type": "markdown",
   "metadata": {},
   "source": [
    "Then we need to add a a weather file to our IDF object. This tutorial uses 'USA_CO_Golden-NREL.724666_TMY3.epw'"
   ]
  },
  {
   "cell_type": "code",
   "execution_count": null,
   "metadata": {},
   "outputs": [],
   "source": [
    "idf.epw = 'USA_CO_Golden-NREL.724666_TMY3.epw'"
   ]
  },
  {
   "cell_type": "markdown",
   "metadata": {},
   "source": [
    "### Edit Material\n",
    "\n",
    "Now we  could edit material with eppy.\n",
    "\n",
    "Function **.idfobjects['MATERIAL']** shows all materials in this idf file.\n",
    "\n",
    "You can also view other idf objects, such as .idfobjects['BUILDING'], .idfobjects['construction'.upper()], etc.\n",
    "\n",
    "Note: All CAPs inside ['']"
   ]
  },
  {
   "cell_type": "code",
   "execution_count": null,
   "metadata": {},
   "outputs": [],
   "source": [
    "# view all materials from a idf file, note ALL CAP 'MATERIAL'\n",
    "materials=idf.idfobjects['MATERIAL']\n",
    "materials"
   ]
  },
  {
   "cell_type": "markdown",
   "metadata": {},
   "source": [
    "<img src=\"./images/allmaterial.png\" width=\"30%\">"
   ]
  },
  {
   "cell_type": "markdown",
   "metadata": {},
   "source": [
    "materials that we get from **idf.idfobjects['MATERIAL']** is a **list**, We can check the number of materials in this idf file by using **len(materials)**"
   ]
  },
  {
   "cell_type": "code",
   "execution_count": null,
   "metadata": {},
   "outputs": [],
   "source": [
    "# check numbers of materials in the idf file\n",
    "len(materials)"
   ]
  },
  {
   "cell_type": "markdown",
   "metadata": {},
   "source": [
    "We've got  17 type of materials in this idf file. \n",
    "\n",
    "We could view the first three material."
   ]
  },
  {
   "cell_type": "code",
   "execution_count": null,
   "metadata": {},
   "outputs": [],
   "source": [
    "# show no.1-3 material in the list\n",
    "print(materials[0:3])"
   ]
  },
  {
   "cell_type": "markdown",
   "metadata": {},
   "source": [
    "<img src=\"images/0-3material.png\" width='25%'>"
   ]
  },
  {
   "cell_type": "markdown",
   "metadata": {},
   "source": [
    "We could view only the first material in the list."
   ]
  },
  {
   "cell_type": "code",
   "execution_count": null,
   "metadata": {},
   "outputs": [],
   "source": [
    "# view 1st material obejct from the material list\n",
    "material0=idf.idfobjects['MATERIAL'][0]\n",
    "material0"
   ]
  },
  {
   "cell_type": "markdown",
   "metadata": {},
   "source": [
    "<img src=\"images/material.png\" width='40%'>"
   ]
  },
  {
   "cell_type": "markdown",
   "metadata": {},
   "source": [
    "We could modify all the fields in this material"
   ]
  },
  {
   "cell_type": "code",
   "execution_count": null,
   "metadata": {},
   "outputs": [],
   "source": [
    "# modifying material1\n",
    "material0.Name='WD10_CHANGED'\n",
    "material0.Specific_Heat=2000.0\n",
    "material0.Thickness=0.2\n",
    "material0.Conductivity=0.5\n",
    "material0.Density=400\n",
    "material0.Specific_Heat=1000\n",
    "material0"
   ]
  },
  {
   "cell_type": "markdown",
   "metadata": {},
   "source": [
    "<img src=\"images/material_edited.png\" width='40%'>"
   ]
  },
  {
   "cell_type": "markdown",
   "metadata": {},
   "source": [
    "We could create a new material to the idf file with fields specified"
   ]
  },
  {
   "cell_type": "code",
   "execution_count": null,
   "metadata": {},
   "outputs": [],
   "source": [
    "# create a new material\n",
    "# !!! since idf.newidfobject is a function to idf file, avoid duplication run\n",
    "newmaterial=idf.newidfobject('MATERIAL', Name=\"G01a 19mm gypsum board\",\n",
    "                            Roughness=\"MediumSmooth\",\n",
    "                            Thickness=0.019,\n",
    "                            Conductivity=0.16,\n",
    "                            Density=800,\n",
    "                            Specific_Heat=1090)\n",
    "newmaterial"
   ]
  },
  {
   "cell_type": "markdown",
   "metadata": {},
   "source": [
    "<img src=\"images/new_material.png\" width=30%>"
   ]
  },
  {
   "cell_type": "markdown",
   "metadata": {},
   "source": [
    "Now let's check how many material is in the idf file. It's 18!"
   ]
  },
  {
   "cell_type": "code",
   "execution_count": 31,
   "metadata": {},
   "outputs": [
    {
     "data": {
      "text/plain": [
       "18"
      ]
     },
     "execution_count": 31,
     "metadata": {},
     "output_type": "execute_result"
    }
   ],
   "source": [
    "# check whether the newmaterial is added to the material list\n",
    "len(materials)"
   ]
  },
  {
   "cell_type": "markdown",
   "metadata": {},
   "source": [
    "The added material would be put the last to the list. We can view the last material in the list by:"
   ]
  },
  {
   "cell_type": "code",
   "execution_count": null,
   "metadata": {},
   "outputs": [],
   "source": [
    "# view the last material in the list\n",
    "idf.idfobjects['MATERIAL'][-1]"
   ]
  },
  {
   "cell_type": "markdown",
   "metadata": {},
   "source": [
    "<img src=\"images/new_material_view.png\" width='40%'>"
   ]
  },
  {
   "cell_type": "markdown",
   "metadata": {},
   "source": [
    "Yes, it is the material we just created. Now we could even duplicate this material by using **.copyidfobject()**"
   ]
  },
  {
   "cell_type": "code",
   "execution_count": null,
   "metadata": {},
   "outputs": [],
   "source": [
    "# duplicate material \n",
    "newmaterial_copy=idf.copyidfobject(newmaterial)\n",
    "newmaterial_copy"
   ]
  },
  {
   "cell_type": "markdown",
   "metadata": {},
   "source": [
    "Let's check the number of material in the idf file again, it's added to 19 now"
   ]
  },
  {
   "cell_type": "code",
   "execution_count": 34,
   "metadata": {},
   "outputs": [
    {
     "data": {
      "text/plain": [
       "19"
      ]
     },
     "execution_count": 34,
     "metadata": {},
     "output_type": "execute_result"
    }
   ],
   "source": [
    "# now there should be 18+1 materials in the list\n",
    "len(materials)"
   ]
  },
  {
   "cell_type": "markdown",
   "metadata": {},
   "source": [
    "If there are material you don't want, you can delete it from this idf file in two ways:\n",
    "1. **.popidfobject('MATERIAL',-1)** in side () you put in list name and index of the item to be removed, popidfobject shows the removed object\n",
    "2. **.removeidfobject()** inside() you put the item to be removed\n",
    "Note: these are all functions to the idf file, avoid duplicate run, it will delete things you don't  want to delete"
   ]
  },
  {
   "cell_type": "code",
   "execution_count": null,
   "metadata": {},
   "outputs": [],
   "source": [
    "# remove material\n",
    "# pop, show the removed material\n",
    "# pop: popidfobject -> give it the idf key: “MATERIAL”, and the index number\n",
    "# IDF.popidfobject(key, index)\n",
    "idf.popidfobject('MATERIAL',-1)"
   ]
  },
  {
   "cell_type": "markdown",
   "metadata": {},
   "source": [
    "<img src=\"images/new_material_view.png\" width='40%'>"
   ]
  },
  {
   "cell_type": "code",
   "execution_count": null,
   "metadata": {},
   "outputs": [],
   "source": [
    "# now there should be 19-1 materials in the list\n",
    "len(materials)"
   ]
  },
  {
   "cell_type": "code",
   "execution_count": null,
   "metadata": {},
   "outputs": [],
   "source": [
    "# you  could also use removeidfobject -> give it the idf object to be deleted\n",
    "material_toremove=idf.idfobjects['MATERIAL'][-1]\n",
    "idf.removeidfobject(material_toremove)"
   ]
  },
  {
   "cell_type": "code",
   "execution_count": null,
   "metadata": {},
   "outputs": [],
   "source": [
    "# now there should be 18-1 materials in the list\n",
    "len(materials)"
   ]
  },
  {
   "cell_type": "markdown",
   "metadata": {},
   "source": [
    "After running two types of deleting methods, we can see the number of material get to (19-2)=17"
   ]
  },
  {
   "cell_type": "markdown",
   "metadata": {},
   "source": [
    "To view all material's name without their specs, we could:"
   ]
  },
  {
   "cell_type": "code",
   "execution_count": null,
   "metadata": {},
   "outputs": [],
   "source": [
    "# print all names of materials\n",
    "for material in materials:\n",
    "    print (material.Name)"
   ]
  },
  {
   "cell_type": "markdown",
   "metadata": {},
   "source": [
    "<img src=\"images/material_names.png\" width='30%'>"
   ]
  },
  {
   "cell_type": "markdown",
   "metadata": {},
   "source": [
    "We could use python's **for** logic here to show only material thicker than 0.1"
   ]
  },
  {
   "cell_type": "code",
   "execution_count": null,
   "metadata": {},
   "outputs": [],
   "source": [
    "# show all material name of which thickness >0.1\n",
    "[material.Name for material in materials if material.Thickness > 0.1]"
   ]
  },
  {
   "cell_type": "markdown",
   "metadata": {},
   "source": [
    "<img src=\"images/thick_material.png\" width='30%'>"
   ]
  },
  {
   "cell_type": "markdown",
   "metadata": {},
   "source": [
    "## construction\n",
    "\n",
    "After talking about material, let's talk about construction, which manage the combination of material \n",
    "\n",
    "We could view all construction by using same function **.idfobjects['']** as viewing all material:"
   ]
  },
  {
   "cell_type": "code",
   "execution_count": null,
   "metadata": {},
   "outputs": [],
   "source": [
    "allconstruction=idf.idfobjects['Construction'.upper()]\n",
    "allconstruction"
   ]
  },
  {
   "cell_type": "markdown",
   "metadata": {},
   "source": [
    "<img src=\"images/allconstruction.png\" width=\"30%\">"
   ]
  },
  {
   "cell_type": "markdown",
   "metadata": {},
   "source": [
    "Similarly, we could check the number of  construction by using **len()**"
   ]
  },
  {
   "cell_type": "code",
   "execution_count": null,
   "metadata": {},
   "outputs": [],
   "source": [
    "len(allconstruction)"
   ]
  },
  {
   "cell_type": "markdown",
   "metadata": {},
   "source": [
    "Lets take a close look at the wall construction in this idf"
   ]
  },
  {
   "cell_type": "code",
   "execution_count": null,
   "metadata": {},
   "outputs": [],
   "source": [
    "construction_wall=allconstruction[1]\n",
    "construction_wall"
   ]
  },
  {
   "cell_type": "markdown",
   "metadata": {},
   "source": [
    "<img src=\"images/wall-1.png\" width=\"30%\">"
   ]
  },
  {
   "cell_type": "markdown",
   "metadata": {},
   "source": [
    "We could duplicate this  construction"
   ]
  },
  {
   "cell_type": "code",
   "execution_count": null,
   "metadata": {},
   "outputs": [],
   "source": [
    "# copy the construction WALL-1\n",
    "construction_wall_duplicate=idf.copyidfobject(construction_wall)"
   ]
  },
  {
   "cell_type": "code",
   "execution_count": null,
   "metadata": {},
   "outputs": [],
   "source": [
    "len(allconstruction)"
   ]
  },
  {
   "cell_type": "markdown",
   "metadata": {},
   "source": [
    "We could change the fields of this duplicated construction"
   ]
  },
  {
   "cell_type": "code",
   "execution_count": null,
   "metadata": {},
   "outputs": [],
   "source": [
    "# edit the duplicated WALL-1\n",
    "construction_wall_duplicate.Name='WALL-2'\n",
    "construction_wall_duplicate.Outside_Layer='WD01'\n",
    "construction_wall_duplicate"
   ]
  },
  {
   "cell_type": "markdown",
   "metadata": {},
   "source": [
    "<img src=\"images/wall-2.png\" width=\"30%\">"
   ]
  },
  {
   "cell_type": "markdown",
   "metadata": {},
   "source": [
    "In geomeppy, we could also  import construction from other idf files, that's covered in the geomeppy tutorial."
   ]
  },
  {
   "cell_type": "markdown",
   "metadata": {},
   "source": [
    "## building surfaces"
   ]
  },
  {
   "cell_type": "markdown",
   "metadata": {},
   "source": [
    "With material and construction covered, let's take a look at tha building surfaces"
   ]
  },
  {
   "cell_type": "markdown",
   "metadata": {},
   "source": [
    "Similarly, we could view all building surfaces in this idf"
   ]
  },
  {
   "cell_type": "code",
   "execution_count": null,
   "metadata": {
    "collapsed": true,
    "jupyter": {
     "outputs_hidden": true
    }
   },
   "outputs": [],
   "source": [
    "# view all Building Surfaces\n",
    "allsurfaces=idf.idfobjects['BuildingSurface:Detailed'.upper()]\n",
    "allsurfaces"
   ]
  },
  {
   "cell_type": "markdown",
   "metadata": {},
   "source": [
    "Let's take a look at the first surface in the list"
   ]
  },
  {
   "cell_type": "markdown",
   "metadata": {},
   "source": [
    "<img src=\"images/bsurface.png\" width=\"30%\">"
   ]
  },
  {
   "cell_type": "code",
   "execution_count": null,
   "metadata": {},
   "outputs": [],
   "source": [
    "surface0=allsurfaces[0]\n",
    "surface0"
   ]
  },
  {
   "cell_type": "markdown",
   "metadata": {},
   "source": [
    "<img src=\"images/surface0.png\" width=\"40%\">"
   ]
  },
  {
   "cell_type": "markdown",
   "metadata": {},
   "source": [
    "View can see the first surface is a WALL, it uses WALL-1 construction. We could change the construction to our newly defined construction above, WALL-2"
   ]
  },
  {
   "cell_type": "code",
   "execution_count": null,
   "metadata": {},
   "outputs": [],
   "source": [
    "# change construction of a surface\n",
    "surface0.Construction_Name='WALL-2'\n",
    "surface0"
   ]
  },
  {
   "cell_type": "markdown",
   "metadata": {},
   "source": [
    "<img src=\"images/surface0-wall2.png\" width=\"40%\">"
   ]
  },
  {
   "cell_type": "markdown",
   "metadata": {},
   "source": [
    "## building"
   ]
  },
  {
   "cell_type": "markdown",
   "metadata": {},
   "source": [
    "After talking through material, construction, buildingsurfaces in eppy, lets talk  about building.\n",
    "\n",
    "Similarly, you can view building in this idf file."
   ]
  },
  {
   "cell_type": "code",
   "execution_count": null,
   "metadata": {},
   "outputs": [],
   "source": [
    "building=idf.idfobjects['BUILDING']\n",
    "building"
   ]
  },
  {
   "cell_type": "markdown",
   "metadata": {},
   "source": [
    "<img src=\"images/building.png\" width=\"40%\">"
   ]
  },
  {
   "cell_type": "markdown",
   "metadata": {},
   "source": [
    "You can see the type of **idf.idfobjects['BUILDING']** is a MSequence, although there is only one building, it is wraped  in MSequence structure. To apply the **.fieldnames** function that we are going to use next, we need to convert MSequence to EpBunch by simply calling out its index **idfobjects['BUILDING'][0]**"
   ]
  },
  {
   "cell_type": "code",
   "execution_count": null,
   "metadata": {},
   "outputs": [],
   "source": [
    "print(type(building))"
   ]
  },
  {
   "cell_type": "markdown",
   "metadata": {},
   "source": [
    "<img src=\"images/list.png\" width=\"40%\">"
   ]
  },
  {
   "cell_type": "code",
   "execution_count": null,
   "metadata": {},
   "outputs": [],
   "source": [
    "building=idf.idfobjects['BUILDING'][0]\n",
    "building"
   ]
  },
  {
   "cell_type": "markdown",
   "metadata": {},
   "source": [
    "<img src=\"images/building_1.png\" width=\"40%\">"
   ]
  },
  {
   "cell_type": "code",
   "execution_count": null,
   "metadata": {},
   "outputs": [],
   "source": [
    "print(type(building))"
   ]
  },
  {
   "cell_type": "markdown",
   "metadata": {},
   "source": [
    "<img src=\"images/epbunch.png\" width=\"40%\">"
   ]
  },
  {
   "cell_type": "markdown",
   "metadata": {},
   "source": [
    "Now we've get EpBunch, we could apply **.fieldnames** to see all fieldnames in the building"
   ]
  },
  {
   "cell_type": "code",
   "execution_count": null,
   "metadata": {},
   "outputs": [],
   "source": [
    "# get all field names of the building idf object\n",
    "building.fieldnames"
   ]
  },
  {
   "cell_type": "markdown",
   "metadata": {},
   "source": [
    "<img src=\"images/allkeys.png\" width=\"40%\">"
   ]
  },
  {
   "cell_type": "markdown",
   "metadata": {},
   "source": [
    "We could get range of any of the field by using **.getrange('')**, here let's try 'Loads_Convergence_Tolerance_Value'"
   ]
  },
  {
   "cell_type": "code",
   "execution_count": null,
   "metadata": {},
   "outputs": [],
   "source": [
    "building.getrange(\"Loads_Convergence_Tolerance_Value\")"
   ]
  },
  {
   "cell_type": "markdown",
   "metadata": {},
   "source": [
    "<img src=\"images/range.png\" width=\"20%\">"
   ]
  },
  {
   "cell_type": "markdown",
   "metadata": {},
   "source": [
    "We could assign a value to this field. Obviously, it's out of its range, let's see what will happen. "
   ]
  },
  {
   "cell_type": "code",
   "execution_count": null,
   "metadata": {},
   "outputs": [],
   "source": [
    "building.Loads_Convergence_Tolerance_Value=0.6"
   ]
  },
  {
   "cell_type": "markdown",
   "metadata": {},
   "source": [
    "By using **.checkrange(\"\")**, it will warn us an RangeError messege telling us the value is out of range."
   ]
  },
  {
   "cell_type": "code",
   "execution_count": null,
   "metadata": {},
   "outputs": [],
   "source": [
    "building.checkrange(\"Loads_Convergence_Tolerance_Value\")"
   ]
  },
  {
   "cell_type": "markdown",
   "metadata": {},
   "source": [
    "<img src=\"images/range_error.png\" width=\"50%\">"
   ]
  },
  {
   "cell_type": "markdown",
   "metadata": {},
   "source": [
    "To show and check value in more than one fields, we could use **for** logic:"
   ]
  },
  {
   "cell_type": "code",
   "execution_count": null,
   "metadata": {},
   "outputs": [],
   "source": [
    "# get all field names AND value of the building idf object\n",
    "for fieldname in building.fieldnames:\n",
    "    print (\"%s = %s\" % (fieldname, building[fieldname]))"
   ]
  },
  {
   "cell_type": "markdown",
   "metadata": {},
   "source": [
    "<img src=\"images/fieldname.png\" width=\"40%\">"
   ]
  },
  {
   "cell_type": "markdown",
   "metadata": {},
   "source": [
    "We could use try and except logic inside for loop to not only show value but also check wether the value is within the range"
   ]
  },
  {
   "cell_type": "code",
   "execution_count": null,
   "metadata": {},
   "outputs": [],
   "source": [
    "# mark out of range value\n",
    "from eppy.bunch_subclass import RangeError\n",
    "for fieldname in building.fieldnames:\n",
    "    try:\n",
    "        building.checkrange(fieldname)\n",
    "        print (\"%s = %s #-in range\" % (fieldname, building[fieldname]))\n",
    "    except RangeError:\n",
    "        print (\"%s = %s #-****OUT OF RANGE****\" % (fieldname, building[fieldname]))"
   ]
  },
  {
   "cell_type": "markdown",
   "metadata": {},
   "source": [
    "<img src=\"images/fieldname_range.png\" width=\"40%\">"
   ]
  },
  {
   "cell_type": "markdown",
   "metadata": {},
   "source": [
    "Let's change the value of load converangence tolerance back to 0.5, otherwise it will raise an error in running the idf file."
   ]
  },
  {
   "cell_type": "markdown",
   "metadata": {},
   "source": [
    "<img src=\"images/value_wrong.png\" width=\"60%\">"
   ]
  },
  {
   "cell_type": "code",
   "execution_count": null,
   "metadata": {},
   "outputs": [],
   "source": [
    "building.Loads_Convergence_Tolerance_Value=0.5"
   ]
  },
  {
   "cell_type": "markdown",
   "metadata": {},
   "source": [
    "## edit idf with json in eppy"
   ]
  },
  {
   "cell_type": "markdown",
   "metadata": {},
   "source": [
    "We have mentioned many ways to change fields in idf objects. To push this further, with advantage of python, you could use json_function in eppy to batch edits multiple fields in various idf objects: "
   ]
  },
  {
   "cell_type": "code",
   "execution_count": null,
   "metadata": {},
   "outputs": [],
   "source": [
    "import eppy.json_functions as json_functions"
   ]
  },
  {
   "cell_type": "code",
   "execution_count": null,
   "metadata": {},
   "outputs": [],
   "source": [
    "## using json to update idf file\n",
    "json_str = {\"idf.VERSION..Version_Identifier\":9.2,\n",
    "            \"idf.SIMULATIONCONTROL..Do_Plant_Sizing_Calculation\": \"No\",\n",
    "            \"idf.BUILDING.Building.North_Axis\": 52,\n",
    "            }\n",
    "json_functions.updateidf(idf,json_str)"
   ]
  },
  {
   "cell_type": "markdown",
   "metadata": {},
   "source": [
    "You can see json_str is a dictionary that collect all the list commend together into one"
   ]
  },
  {
   "cell_type": "code",
   "execution_count": null,
   "metadata": {},
   "outputs": [],
   "source": [
    "print(type(json_str))"
   ]
  },
  {
   "cell_type": "markdown",
   "metadata": {},
   "source": [
    "You can view the idf now again and see wether the fields you want to alter have been changed"
   ]
  },
  {
   "cell_type": "code",
   "execution_count": null,
   "metadata": {},
   "outputs": [],
   "source": [
    "idf.printidf()"
   ]
  },
  {
   "cell_type": "markdown",
   "metadata": {},
   "source": [
    "<img src=\"images/print_idf.png\" width=\"40%\">"
   ]
  },
  {
   "cell_type": "markdown",
   "metadata": {},
   "source": [
    "## zone\n",
    "\n",
    "In the end of this tutorial, lets check out zone\n",
    "\n",
    "Similarly, we could view all zones by **.idfobjects[\"zone\".upper()]**"
   ]
  },
  {
   "cell_type": "code",
   "execution_count": null,
   "metadata": {},
   "outputs": [],
   "source": [
    "#  show all zones\n",
    "allzone=idf.idfobjects[\"zone\".upper()]\n",
    "allzone"
   ]
  },
  {
   "cell_type": "markdown",
   "metadata": {},
   "source": [
    "<img src=\"images/zones.png\" width=\"40%\">"
   ]
  },
  {
   "cell_type": "markdown",
   "metadata": {},
   "source": [
    "In this selected zone,  we could see its volume by viewing the value in Volume and area by using function **modeleditor.zonearea(idf, zone1.Name)**"
   ]
  },
  {
   "cell_type": "code",
   "execution_count": null,
   "metadata": {},
   "outputs": [],
   "source": [
    "# view first zone in the list \n",
    "zone0=allzone[0]\n",
    "zone0"
   ]
  },
  {
   "cell_type": "markdown",
   "metadata": {},
   "source": [
    "<img src=\"images/zone0.png\" width=\"40%\">"
   ]
  },
  {
   "cell_type": "code",
   "execution_count": null,
   "metadata": {},
   "outputs": [],
   "source": [
    "# display zone1 volume and area\n",
    "from eppy import modeleditor\n",
    "print (\"volume = %s\" % (zone0.Volume, ))\n",
    "area1 = modeleditor.zonearea(idf, zone0.Name)\n",
    "print ('area = %s ' % (area1,))"
   ]
  },
  {
   "cell_type": "markdown",
   "metadata": {},
   "source": [
    "<img src=\"images/VA.png\" width=\"40%\">"
   ]
  },
  {
   "cell_type": "markdown",
   "metadata": {},
   "source": [
    "## run idf\n",
    "After all the alternations have been done, you could run the idf file and save the idf file"
   ]
  },
  {
   "cell_type": "code",
   "execution_count": null,
   "metadata": {},
   "outputs": [],
   "source": [
    "idf.run()\n",
    "#idf.save()\n",
    "#idf.saveas()"
   ]
  },
  {
   "cell_type": "markdown",
   "metadata": {},
   "source": [
    "<img src=\"images/run.png\" width=\"100%\">"
   ]
  },
  {
   "cell_type": "markdown",
   "metadata": {},
   "source": [
    "## sources\n",
    "\n",
    "The source documentation of eppy could be found here: https://eppy.readthedocs.io/en/latest/index.html"
   ]
  }
 ],
 "metadata": {
  "kernelspec": {
   "display_name": "Python 3",
   "language": "python",
   "name": "python3"
  },
  "language_info": {
   "codemirror_mode": {
    "name": "ipython",
    "version": 3
   },
   "file_extension": ".py",
   "mimetype": "text/x-python",
   "name": "python",
   "nbconvert_exporter": "python",
   "pygments_lexer": "ipython3",
   "version": "3.7.7"
  }
 },
 "nbformat": 4,
 "nbformat_minor": 4
}
