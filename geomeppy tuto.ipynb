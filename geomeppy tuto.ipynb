{
 "cells": [
  {
   "cell_type": "markdown",
   "metadata": {},
   "source": [
    "# Intro to geomeppy_tutorial\n",
    "----\n",
    "#### Addition to Eppy, GeomEppy is a scripting language to Energyplus, primarily focuses on IDF geometry (zones, surfaces, constructions, etc.)\n",
    "#### This tutorial is intended to help you take the first step in using GeomEppy. The demo file is a quick introduction of using GeomEppy to build geometries for idf files:\n",
    "* access an idf file with geomeppy\n",
    "* build a geometry for the idf file\n",
    "* visualize the built geometry\n",
    "* modified the built geomety: scaling, rotating, etc. \n",
    "* run energy plus on geomeppy"
   ]
  },
  {
   "cell_type": "markdown",
   "metadata": {},
   "source": [
    "# Install geomeppy:\n",
    "--------\n",
    "In your **conda** environment, run:"
   ]
  },
  {
   "cell_type": "code",
   "execution_count": null,
   "metadata": {},
   "outputs": [],
   "source": [
    "pip install geomeppy"
   ]
  },
  {
   "cell_type": "markdown",
   "metadata": {},
   "source": [
    "Next install **energy plus** if you have not done so. (This tutorial will be running with EnergyPlus 9.1.0)\n",
    "Get the idd filepath from the EnergyPlus installation folder. The file for this tutorial is on Mac, so the idd filepath would be: '/Applications/EnergyPlus-9-1-0/Energy+.idd'. \n",
    "On windows the path would usually be: 'C:/EnergyPlusV9-1-0', and on Linux '/usr/local/EnergyPlus-9-1-0'."
   ]
  },
  {
   "cell_type": "markdown",
   "metadata": {},
   "source": [
    "Next, we are going to import idf file to **geomeppy**. \n",
    "Get the **idd file** path mentioned above ready'/Applications/EnergyPlus-9-1-0/Energy+.idd'.\n",
    "Pick an **idf file** that you wish you access. This tutorial uses the 'Minimal.idf' file from the energy plus example folder: '/Applications/EnergyPlus-9-1-0/ExampleFiles/Minimal.idf'. \n",
    "With these ready, in the python 3 environment, type: "
   ]
  },
  {
   "cell_type": "code",
   "execution_count": null,
   "metadata": {},
   "outputs": [],
   "source": [
    "from geomeppy import IDF\n",
    "IDF.setiddname('/Applications/EnergyPlus-9-1-0/Energy+.idd')\n",
    "idf = IDF('/Applications/EnergyPlus-9-1-0/ExampleFiles/Minimal.idf')"
   ]
  },
  {
   "cell_type": "markdown",
   "metadata": {},
   "source": [
    "Then we can add a a weather file to our idf object. This tutorial uses 'USA_CO_Golden-NREL.724666_TMY3.epw'"
   ]
  },
  {
   "cell_type": "code",
   "execution_count": null,
   "metadata": {},
   "outputs": [],
   "source": [
    "idf.epw = 'USA_CO_Golden-NREL.724666_TMY3.epw'"
   ]
  },
  {
   "cell_type": "markdown",
   "metadata": {},
   "source": [
    "Now we could start adding a simple block to the idf object by giving it a name, specifying its four base coordinates, and its height. "
   ]
  },
  {
   "cell_type": "code",
   "execution_count": null,
   "metadata": {},
   "outputs": [],
   "source": [
    "idf.add_block(\n",
    "    name='Test Block1',\n",
    "    coordinates=[(10,0),(10,5),(0,5),(0,0)],\n",
    "    height=5)"
   ]
  },
  {
   "cell_type": "markdown",
   "metadata": {},
   "source": [
    "The block could be added with more details, such as number of floor and undergournd stories."
   ]
  },
  {
   "cell_type": "code",
   "execution_count": null,
   "metadata": {},
   "outputs": [],
   "source": [
    "idf.add_block(\n",
    "    name='Test Block2',\n",
    "    coordinates=[(10,5),(10,10),(0,10),(0,5)],\n",
    "    height=20,\n",
    "    num_stories=5,\n",
    "    below_ground_stories=1,\n",
    "    below_ground_storey_height=5,)"
   ]
  },
  {
   "cell_type": "markdown",
   "metadata": {},
   "source": [
    "We could also add windows to the block by giving it window to wall ratio(wwr)"
   ]
  },
  {
   "cell_type": "code",
   "execution_count": null,
   "metadata": {},
   "outputs": [],
   "source": [
    "idf.set_wwr(wwr=0.25)"
   ]
  },
  {
   "cell_type": "markdown",
   "metadata": {},
   "source": [
    "The blocks could be rotated:"
   ]
  },
  {
   "cell_type": "code",
   "execution_count": null,
   "metadata": {},
   "outputs": [],
   "source": [
    "idf.rotate(90)"
   ]
  },
  {
   "cell_type": "markdown",
   "metadata": {},
   "source": [
    "And scaled on selected axis, here we double the dimension of the blocks on 'zy' axis:"
   ]
  },
  {
   "cell_type": "code",
   "execution_count": null,
   "metadata": {},
   "outputs": [],
   "source": [
    "idf.scale(2,axes='zy')"
   ]
  },
  {
   "cell_type": "markdown",
   "metadata": {},
   "source": [
    "We could use the **view_model** function to view the built geometry"
   ]
  },
  {
   "cell_type": "code",
   "execution_count": null,
   "metadata": {},
   "outputs": [],
   "source": [
    "idf.view_model()"
   ]
  },
  {
   "cell_type": "markdown",
   "metadata": {},
   "source": [
    "Intersect all surfaces:"
   ]
  },
  {
   "cell_type": "code",
   "execution_count": null,
   "metadata": {},
   "outputs": [],
   "source": [
    "idf.intersect_match()"
   ]
  },
  {
   "cell_type": "markdown",
   "metadata": {},
   "source": [
    "Next we can set default constructions for the idf surfaces."
   ]
  },
  {
   "cell_type": "code",
   "execution_count": null,
   "metadata": {},
   "outputs": [],
   "source": [
    "idf.set_default_constructions()"
   ]
  },
  {
   "cell_type": "markdown",
   "metadata": {},
   "source": [
    "We can view the idf file and check the modification you made to the idf file. "
   ]
  },
  {
   "cell_type": "code",
   "execution_count": null,
   "metadata": {},
   "outputs": [],
   "source": [
    "idf.printidf()"
   ]
  },
  {
   "cell_type": "markdown",
   "metadata": {},
   "source": [
    "Finally, we can run the idf file on geomeppy"
   ]
  },
  {
   "cell_type": "code",
   "execution_count": null,
   "metadata": {},
   "outputs": [],
   "source": [
    "idf.run()"
   ]
  },
  {
   "cell_type": "markdown",
   "metadata": {},
   "source": [
    "The idf file could be saved or saved as:"
   ]
  },
  {
   "cell_type": "code",
   "execution_count": null,
   "metadata": {},
   "outputs": [],
   "source": [
    "idf.save('Filepath to save the file')"
   ]
  },
  {
   "cell_type": "code",
   "execution_count": null,
   "metadata": {},
   "outputs": [],
   "source": [
    "idf.saveas('Filepath to set the new idf file name attribute to and save the file as')"
   ]
  },
  {
   "cell_type": "markdown",
   "metadata": {},
   "source": [
    "# more geomeppy resources\n",
    "##### The source documentation of geomeppy is here: https://geomeppy.readthedocs.io/en/latest/"
   ]
  }
 ],
 "metadata": {
  "kernelspec": {
   "display_name": "Python 3",
   "language": "python",
   "name": "python3"
  },
  "language_info": {
   "codemirror_mode": {
    "name": "ipython",
    "version": 3
   },
   "file_extension": ".py",
   "mimetype": "text/x-python",
   "name": "python",
   "nbconvert_exporter": "python",
   "pygments_lexer": "ipython3",
   "version": "3.7.6"
  }
 },
 "nbformat": 4,
 "nbformat_minor": 4
}
