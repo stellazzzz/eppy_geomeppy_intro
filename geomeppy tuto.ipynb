{
 "cells": [
  {
   "cell_type": "markdown",
   "metadata": {},
   "source": [
    "# Intro to geomeppy_tutorial\n",
    "---\n",
    "##### As mentioned in eppy tutorial that eppy is a scripting language to Energyplus. Eppy puts the idd and idf file into a python data structure, and uses the power of python to edit idf files. Addition to Eppy, GeomEppy is a scripting language to Energyplus, primarily focuses on IDF geometry (zones, surfaces, constructions, etc.)\n",
    "##### This tutorial is intended to help you take the first step in using GeomEppy. The demo file is a quick introduction of using GeomEppy to build geometries for idf files:\n",
    "* access an idf file with geomeppy\n",
    "* build blocks for the idf file, with zoning specified\n",
    "* make window with wwr\n",
    "* import construction from other idf files, and apply construction to the objects\n",
    "* modified the built geomety: scaling, rotating, etc. \n",
    "* visualize and save the built geometry as obj file\n",
    "* run energy plus on geomeppy\n",
    "------"
   ]
  },
  {
   "cell_type": "markdown",
   "metadata": {},
   "source": [
    "### Install geomeppy:\n",
    "As we already covered in the eppy/geomeppy installation tutorial, you need to install geomeppy by **pip install geomeppy** in your **conda** environment, if you have already done so, skip this step."
   ]
  },
  {
   "cell_type": "code",
   "execution_count": null,
   "metadata": {},
   "outputs": [],
   "source": [
    "pip install geomeppy"
   ]
  },
  {
   "cell_type": "markdown",
   "metadata": {},
   "source": [
    "--------\n"
   ]
  },
  {
   "cell_type": "markdown",
   "metadata": {},
   "source": [
    "### Install EnergyPlus\n",
    "Next install **EnergyPlus** if you have not done so. \n",
    "\n",
    "**EnergyPlus version**: This tutorial will be running with EnergyPlus 9.1.0. But if you are using other versions, don't worry, geomeppy will also work for your EnergyPlus version. Just remember to change the idd path properly to your version, and keep using one version of EnergyPlus in one jupyter launcher. \n",
    "\n",
    "Next, get the idd filepath from the EnergyPlus installation folder. This tutorial is on Mac, so the idd filepath would be: '/Applications/EnergyPlus-9-1-0/Energy+.idd'. \n",
    "On windows the path would usually be: 'C:/EnergyPlusV9-1-0', and on Linux '/usr/local/EnergyPlus-9-1-0'."
   ]
  },
  {
   "cell_type": "markdown",
   "metadata": {},
   "source": [
    "### Run geomeppy:\n",
    "Then,we are going to import idf file to **geomeppy**. \n",
    "\n",
    "Pick an **idf file** that you wish you access. This tutorial uses the 'Minimal.idf' file from the energy plus example folder, the file path is: '/Applications/EnergyPlus-9-1-0/ExampleFiles/Minimal.idf'. \n",
    "\n",
    "With these ready, in the python 3 environment, type: "
   ]
  },
  {
   "cell_type": "code",
   "execution_count": null,
   "metadata": {},
   "outputs": [],
   "source": [
    "from geomeppy import IDF\n",
    "IDF.setiddname('/Applications/EnergyPlus-9-1-0/Energy+.idd')\n",
    "idf = IDF('/Applications/EnergyPlus-9-1-0/ExampleFiles/Minimal.idf')"
   ]
  },
  {
   "cell_type": "markdown",
   "metadata": {},
   "source": [
    "Then we can add a a weather file to our idf object. This tutorial uses 'USA_CO_Golden-NREL.724666_TMY3.epw'"
   ]
  },
  {
   "cell_type": "code",
   "execution_count": null,
   "metadata": {},
   "outputs": [],
   "source": [
    "idf.epw = 'USA_CO_Golden-NREL.724666_TMY3.epw'"
   ]
  },
  {
   "cell_type": "markdown",
   "metadata": {},
   "source": [
    "Now we could start adding a simple block to the idf object by giving it a name, specifying its four base coordinates,its height, and number  of floors. "
   ]
  },
  {
   "cell_type": "code",
   "execution_count": null,
   "metadata": {},
   "outputs": [],
   "source": [
    "idf.add_block(\n",
    "    name='Test Block1',\n",
    "    coordinates=[(10,0),(10,5),(0,5),(0,0)],\n",
    "    height=5,\n",
    "    num_stories=2,)"
   ]
  },
  {
   "cell_type": "markdown",
   "metadata": {},
   "source": [
    "You could specified zoning by storey"
   ]
  },
  {
   "cell_type": "code",
   "execution_count": null,
   "metadata": {},
   "outputs": [],
   "source": [
    "idf.add_block(\n",
    "    name='Test Block1',\n",
    "    coordinates=[(10,0),(10,5),(0,5),(0,0)],\n",
    "    height=5,\n",
    "    num_stories=2,\n",
    "    zoning=\"by_storey\")"
   ]
  },
  {
   "cell_type": "markdown",
   "metadata": {},
   "source": [
    "The zoning could also be specified as core/perim, and the depth of the perimeter could be defined."
   ]
  },
  {
   "cell_type": "code",
   "execution_count": null,
   "metadata": {},
   "outputs": [],
   "source": [
    "idf.add_block(\n",
    "    name='Test Block2',\n",
    "    coordinates=[(10,5),(10,10),(0,10),(0,5)],\n",
    "    height=9,\n",
    "    zoning=\"core/perim\",\n",
    "    perim_depth=2.0)"
   ]
  },
  {
   "cell_type": "markdown",
   "metadata": {},
   "source": [
    "Before setting the windows, we need to intersect all surfaces, so walls of blocks won't get duplication."
   ]
  },
  {
   "cell_type": "code",
   "execution_count": null,
   "metadata": {},
   "outputs": [],
   "source": [
    "idf.intersect_match()"
   ]
  },
  {
   "cell_type": "markdown",
   "metadata": {},
   "source": [
    "Next we can set default constructions for the rest of idf surfaces."
   ]
  },
  {
   "cell_type": "code",
   "execution_count": null,
   "metadata": {},
   "outputs": [],
   "source": [
    "idf.set_default_constructions()"
   ]
  },
  {
   "cell_type": "markdown",
   "metadata": {},
   "source": [
    "Let's view all the default construction in this idf"
   ]
  },
  {
   "cell_type": "code",
   "execution_count": null,
   "metadata": {},
   "outputs": [],
   "source": [
    "idf.idfobjects['construction'.upper()]"
   ]
  },
  {
   "cell_type": "markdown",
   "metadata": {},
   "source": [
    "By using **copy_construction** from geomeppy.extractor, we could import construction from another idf file. \n",
    "Here let's try import window constrctions from WindowTestsSimple.idf in the examplefile"
   ]
  },
  {
   "cell_type": "code",
   "execution_count": null,
   "metadata": {},
   "outputs": [],
   "source": [
    "from geomeppy.extractor import copy_constructions\n",
    "src_idf = IDF('/Applications/EnergyPlus-9-1-0/ExampleFiles/WindowTestsSimple.idf')\n",
    "copy_constructions(source_idf=src_idf, target_idf=idf)"
   ]
  },
  {
   "cell_type": "markdown",
   "metadata": {},
   "source": [
    "Now let's view all the construction again and check if the window constructions have been imported"
   ]
  },
  {
   "cell_type": "code",
   "execution_count": null,
   "metadata": {},
   "outputs": [],
   "source": [
    "idf.idfobjects[\"CONSTRUCTION\"]"
   ]
  },
  {
   "cell_type": "markdown",
   "metadata": {},
   "source": [
    "Then, we could create windows by giving it window to wall ratio(wwr), and construction type"
   ]
  },
  {
   "cell_type": "code",
   "execution_count": null,
   "metadata": {},
   "outputs": [],
   "source": [
    "idf.set_wwr(0.25,construction=\"DOUBLE PANE WITH SCREEN\")"
   ]
  },
  {
   "cell_type": "markdown",
   "metadata": {},
   "source": [
    "We could view all windows and theri constructions"
   ]
  },
  {
   "cell_type": "code",
   "execution_count": null,
   "metadata": {},
   "outputs": [],
   "source": [
    "allwindow=idf.idfobjects['FenestrationSurface:Detailed'.upper()]\n",
    "allwindow"
   ]
  },
  {
   "cell_type": "markdown",
   "metadata": {},
   "source": [
    "We could use Construction_name to change all the windows' construction to Double Pane Window"
   ]
  },
  {
   "cell_type": "code",
   "execution_count": null,
   "metadata": {},
   "outputs": [],
   "source": [
    "for window in idf.idfobjects['FenestrationSurface:Detailed'.upper()]:\n",
    "    window.Construction_Name='DOUBLE PANE WINDOW'\n",
    "    print (window)"
   ]
  },
  {
   "cell_type": "markdown",
   "metadata": {},
   "source": [
    "Then, we could use the **view_model** function to view the blocks with the windows"
   ]
  },
  {
   "cell_type": "code",
   "execution_count": null,
   "metadata": {},
   "outputs": [],
   "source": [
    "idf.view_model()"
   ]
  },
  {
   "cell_type": "markdown",
   "metadata": {},
   "source": [
    "\n",
    "<img src=\"images/1.png\" width='30%'>\n"
   ]
  },
  {
   "cell_type": "markdown",
   "metadata": {},
   "source": [
    "The blocks could be rotated by a defined degree:"
   ]
  },
  {
   "cell_type": "code",
   "execution_count": null,
   "metadata": {},
   "outputs": [],
   "source": [
    "idf.rotate(90)"
   ]
  },
  {
   "cell_type": "markdown",
   "metadata": {},
   "source": [
    "\n",
    "<img src=\"images/2.png\" width='35%'>\n"
   ]
  },
  {
   "cell_type": "markdown",
   "metadata": {},
   "source": [
    "And scaled on selected axis, here we double the dimension of the blocks on 'zy' axis:"
   ]
  },
  {
   "cell_type": "code",
   "execution_count": null,
   "metadata": {},
   "outputs": [],
   "source": [
    "idf.scale(2,axes='zy')"
   ]
  },
  {
   "cell_type": "markdown",
   "metadata": {},
   "source": [
    "<img src=\"images/3.png\" width='30%'>"
   ]
  },
  {
   "cell_type": "markdown",
   "metadata": {},
   "source": [
    "A note here, **.scale** is a function applied to the idf file, if the same code is run twice, the geometries' dimension in the idf file would be doubled twice in 'zy' axis\n",
    "\n",
    "same for other functions to the idf file"
   ]
  },
  {
   "cell_type": "markdown",
   "metadata": {},
   "source": [
    "You may save the geometry you just build and modified to an obj file"
   ]
  },
  {
   "cell_type": "code",
   "execution_count": null,
   "metadata": {},
   "outputs": [],
   "source": [
    "idf.to_obj('test.obj')"
   ]
  },
  {
   "cell_type": "markdown",
   "metadata": {},
   "source": [
    "We can view the idf file and check the modification you made to the idf file. "
   ]
  },
  {
   "cell_type": "code",
   "execution_count": null,
   "metadata": {},
   "outputs": [],
   "source": [
    "idf.printidf()"
   ]
  },
  {
   "cell_type": "markdown",
   "metadata": {},
   "source": [
    "Finally, we can run the idf file on geomeppy"
   ]
  },
  {
   "cell_type": "code",
   "execution_count": null,
   "metadata": {},
   "outputs": [],
   "source": [
    "idf.run()"
   ]
  },
  {
   "cell_type": "markdown",
   "metadata": {},
   "source": [
    "A successful run in windows system would look  like this:"
   ]
  },
  {
   "cell_type": "markdown",
   "metadata": {},
   "source": [
    "<img src=\"images/windows.png\" width='40%'>"
   ]
  },
  {
   "cell_type": "markdown",
   "metadata": {},
   "source": [
    "A successful run in mac system would look  like this:"
   ]
  },
  {
   "cell_type": "markdown",
   "metadata": {},
   "source": [
    "<img src=\"images/mac.png\" width='50%'>"
   ]
  },
  {
   "cell_type": "markdown",
   "metadata": {},
   "source": [
    "The idf file could be saved or saved as:"
   ]
  },
  {
   "cell_type": "code",
   "execution_count": null,
   "metadata": {},
   "outputs": [],
   "source": [
    "idf.save('Filepath to save the file')"
   ]
  },
  {
   "cell_type": "code",
   "execution_count": null,
   "metadata": {},
   "outputs": [],
   "source": [
    "idf.saveas('Filepath to set the new idf file name attribute to and save the file as')"
   ]
  },
  {
   "cell_type": "markdown",
   "metadata": {},
   "source": [
    "----\n",
    "## more geomeppy resources\n",
    "The source documentation of geomeppy could be found: https://geomeppy.readthedocs.io/en/latest/"
   ]
  }
 ],
 "metadata": {
  "kernelspec": {
   "display_name": "Python 3",
   "language": "python",
   "name": "python3"
  },
  "language_info": {
   "codemirror_mode": {
    "name": "ipython",
    "version": 3
   },
   "file_extension": ".py",
   "mimetype": "text/x-python",
   "name": "python",
   "nbconvert_exporter": "python",
   "pygments_lexer": "ipython3",
   "version": "3.7.7"
  }
 },
 "nbformat": 4,
 "nbformat_minor": 4
}
