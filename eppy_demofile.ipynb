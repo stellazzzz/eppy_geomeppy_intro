{
 "cells": [
  {
   "cell_type": "markdown",
   "metadata": {},
   "source": [
    "### set up file path for idf in eppy\n",
    "(in python 3 environment)"
   ]
  },
  {
   "cell_type": "code",
   "execution_count": null,
   "metadata": {},
   "outputs": [],
   "source": [
    "# set up file path for idf in eppy\n",
    "from eppy.modeleditor import IDF\n",
    "IDF.setiddname('/Applications/EnergyPlus-9-1-0/Energy+.idd')\n",
    "idf= IDF('/Applications/EnergyPlus-9-1-0/ExampleFiles/VentilatedSlab.idf')"
   ]
  },
  {
   "cell_type": "code",
   "execution_count": null,
   "metadata": {},
   "outputs": [],
   "source": [
    "idf.epw = 'USA_CO_Golden-NREL.724666_TMY3.epw'"
   ]
  },
  {
   "cell_type": "markdown",
   "metadata": {},
   "source": [
    "### Edit Material"
   ]
  },
  {
   "cell_type": "code",
   "execution_count": null,
   "metadata": {},
   "outputs": [],
   "source": [
    "# view all materials from a idf file, note ALL CAP 'MATERIAL'\n",
    "materials=idf.idfobjects['MATERIAL']\n",
    "materials"
   ]
  },
  {
   "cell_type": "code",
   "execution_count": null,
   "metadata": {},
   "outputs": [],
   "source": [
    "# check numbers of materials in the idf file\n",
    "len(materials)"
   ]
  },
  {
   "cell_type": "code",
   "execution_count": null,
   "metadata": {},
   "outputs": [],
   "source": [
    "# show no.1-3 material in the list\n",
    "print(materials[0:3])"
   ]
  },
  {
   "cell_type": "code",
   "execution_count": null,
   "metadata": {},
   "outputs": [],
   "source": [
    "# view 1st material obejct from the material list\n",
    "material0=idf.idfobjects['MATERIAL'][0]\n",
    "material0"
   ]
  },
  {
   "cell_type": "code",
   "execution_count": null,
   "metadata": {},
   "outputs": [],
   "source": [
    "# We could modify all the fields in this material\n",
    "material0.Name='WD10_CHANGED'\n",
    "material0.Specific_Heat=2000.0\n",
    "material0.Thickness=0.2\n",
    "material0.Conductivity=0.5\n",
    "material0.Density=400\n",
    "material0.Specific_Heat=1000\n",
    "material0"
   ]
  },
  {
   "cell_type": "code",
   "execution_count": null,
   "metadata": {},
   "outputs": [],
   "source": [
    "# create a new material\n",
    "# !!! since idf.newidfobject is a function to idf file, avoid duplication run\n",
    "newmaterial=idf.newidfobject('MATERIAL', Name=\"G01a 19mm gypsum board\",\n",
    "                            Roughness=\"MediumSmooth\",\n",
    "                            Thickness=0.019,\n",
    "                            Conductivity=0.16,\n",
    "                            Density=800,\n",
    "                            Specific_Heat=1090)\n",
    "newmaterial"
   ]
  },
  {
   "cell_type": "code",
   "execution_count": null,
   "metadata": {},
   "outputs": [],
   "source": [
    "# check whether the newmaterial is added to the material list\n",
    "len(materials)"
   ]
  },
  {
   "cell_type": "code",
   "execution_count": null,
   "metadata": {},
   "outputs": [],
   "source": [
    "# view the last material in the list\n",
    "idf.idfobjects['MATERIAL'][-1]"
   ]
  },
  {
   "cell_type": "code",
   "execution_count": null,
   "metadata": {},
   "outputs": [],
   "source": [
    "# duplicate material \n",
    "newmaterial_copy=idf.copyidfobject(newmaterial)\n",
    "newmaterial_copy"
   ]
  },
  {
   "cell_type": "code",
   "execution_count": null,
   "metadata": {},
   "outputs": [],
   "source": [
    "# now there should be 18+1 materials in the list\n",
    "len(materials)"
   ]
  },
  {
   "cell_type": "code",
   "execution_count": null,
   "metadata": {},
   "outputs": [],
   "source": [
    "# remove material\n",
    "# pop, show the removed material\n",
    "# pop: popidfobject -> give it the idf key: “MATERIAL”, and the index number\n",
    "# IDF.popidfobject(key, index)\n",
    "idf.popidfobject('MATERIAL',-1)"
   ]
  },
  {
   "cell_type": "code",
   "execution_count": null,
   "metadata": {},
   "outputs": [],
   "source": [
    "# now there should be 19-1 materials in the list\n",
    "len(materials)"
   ]
  },
  {
   "cell_type": "code",
   "execution_count": null,
   "metadata": {},
   "outputs": [],
   "source": [
    "# you  could also use removeidfobject -> give it the idf object to be deleted\n",
    "material_toremove=idf.idfobjects['MATERIAL'][-1]\n",
    "idf.removeidfobject(material_toremove)"
   ]
  },
  {
   "cell_type": "code",
   "execution_count": null,
   "metadata": {},
   "outputs": [],
   "source": [
    "# now there should be 18-1 materials in the list\n",
    "len(materials)"
   ]
  },
  {
   "cell_type": "code",
   "execution_count": null,
   "metadata": {},
   "outputs": [],
   "source": [
    "# print all names of materials\n",
    "for material in materials:\n",
    "    print (material.Name)"
   ]
  },
  {
   "cell_type": "markdown",
   "metadata": {},
   "source": [
    "We could use python's **for** logic here to show only material thicker than 0.1"
   ]
  },
  {
   "cell_type": "code",
   "execution_count": null,
   "metadata": {},
   "outputs": [],
   "source": [
    "# show all material name of which thickness >0.1\n",
    "[material.Name for material in materials if material.Thickness > 0.1]"
   ]
  },
  {
   "cell_type": "markdown",
   "metadata": {},
   "source": [
    "## construction"
   ]
  },
  {
   "cell_type": "code",
   "execution_count": null,
   "metadata": {},
   "outputs": [],
   "source": [
    "allconstruction=idf.idfobjects['Construction'.upper()]\n",
    "allconstruction"
   ]
  },
  {
   "cell_type": "markdown",
   "metadata": {},
   "source": [
    "Similarly, we could check the number of  construction by using **len()**"
   ]
  },
  {
   "cell_type": "code",
   "execution_count": null,
   "metadata": {},
   "outputs": [],
   "source": [
    "len(allconstruction)"
   ]
  },
  {
   "cell_type": "code",
   "execution_count": null,
   "metadata": {},
   "outputs": [],
   "source": [
    "# view construction of  wall\n",
    "construction_wall=allconstruction[1]\n",
    "construction_wall"
   ]
  },
  {
   "cell_type": "markdown",
   "metadata": {},
   "source": [
    "We could duplicate this  construction"
   ]
  },
  {
   "cell_type": "code",
   "execution_count": null,
   "metadata": {},
   "outputs": [],
   "source": [
    "# copy the construction WALL-1\n",
    "construction_wall_duplicate=idf.copyidfobject(construction_wall)"
   ]
  },
  {
   "cell_type": "code",
   "execution_count": null,
   "metadata": {},
   "outputs": [],
   "source": [
    "len(allconstruction)"
   ]
  },
  {
   "cell_type": "code",
   "execution_count": null,
   "metadata": {},
   "outputs": [],
   "source": [
    "# edit the duplicated WALL-1\n",
    "construction_wall_duplicate.Name='WALL-2'\n",
    "construction_wall_duplicate.Outside_Layer='WD01'\n",
    "construction_wall_duplicate"
   ]
  },
  {
   "cell_type": "markdown",
   "metadata": {},
   "source": [
    "## building surfaces"
   ]
  },
  {
   "cell_type": "code",
   "execution_count": null,
   "metadata": {},
   "outputs": [],
   "source": [
    "# view all Building Surfaces\n",
    "allsurfaces=idf.idfobjects['BuildingSurface:Detailed'.upper()]\n",
    "allsurfaces"
   ]
  },
  {
   "cell_type": "code",
   "execution_count": null,
   "metadata": {},
   "outputs": [],
   "source": [
    "#view 1st surface in the list\n",
    "surface0=allsurfaces[0]\n",
    "surface0"
   ]
  },
  {
   "cell_type": "code",
   "execution_count": null,
   "metadata": {},
   "outputs": [],
   "source": [
    "# change construction of a surface\n",
    "surface0.Construction_Name='WALL-2'\n",
    "surface0"
   ]
  },
  {
   "cell_type": "markdown",
   "metadata": {},
   "source": [
    "## building"
   ]
  },
  {
   "cell_type": "code",
   "execution_count": null,
   "metadata": {},
   "outputs": [],
   "source": [
    "#view building in the idf file\n",
    "building=idf.idfobjects['BUILDING']\n",
    "building"
   ]
  },
  {
   "cell_type": "code",
   "execution_count": null,
   "metadata": {},
   "outputs": [],
   "source": [
    "# view type of building\n",
    "print(type(building))"
   ]
  },
  {
   "cell_type": "code",
   "execution_count": null,
   "metadata": {},
   "outputs": [],
   "source": [
    "building=idf.idfobjects['BUILDING'][0]\n",
    "building"
   ]
  },
  {
   "cell_type": "code",
   "execution_count": null,
   "metadata": {},
   "outputs": [],
   "source": [
    "# view type of building again\n",
    "print(type(building))"
   ]
  },
  {
   "cell_type": "code",
   "execution_count": null,
   "metadata": {},
   "outputs": [],
   "source": [
    "# get all field names of the building idf object\n",
    "building.fieldnames"
   ]
  },
  {
   "cell_type": "code",
   "execution_count": null,
   "metadata": {},
   "outputs": [],
   "source": [
    "# get range  of \"Loads_Convergence_Tolerance_Value\"\n",
    "building.getrange(\"Loads_Convergence_Tolerance_Value\")"
   ]
  },
  {
   "cell_type": "code",
   "execution_count": null,
   "metadata": {},
   "outputs": [],
   "source": [
    "# assign a value to this field\n",
    "building.Loads_Convergence_Tolerance_Value=0.6"
   ]
  },
  {
   "cell_type": "code",
   "execution_count": null,
   "metadata": {},
   "outputs": [],
   "source": [
    "# check range of this field\n",
    "building.checkrange(\"Loads_Convergence_Tolerance_Value\")"
   ]
  },
  {
   "cell_type": "code",
   "execution_count": null,
   "metadata": {},
   "outputs": [],
   "source": [
    "# get all field names AND value of the building idf object\n",
    "for fieldname in building.fieldnames:\n",
    "    print (\"%s = %s\" % (fieldname, building[fieldname]))"
   ]
  },
  {
   "cell_type": "code",
   "execution_count": null,
   "metadata": {},
   "outputs": [],
   "source": [
    "# mark out of range value\n",
    "from eppy.bunch_subclass import RangeError\n",
    "for fieldname in building.fieldnames:\n",
    "    try:\n",
    "        building.checkrange(fieldname)\n",
    "        print (\"%s = %s #-in range\" % (fieldname, building[fieldname]))\n",
    "    except RangeError:\n",
    "        print (\"%s = %s #-****OUT OF RANGE****\" % (fieldname, building[fieldname]))"
   ]
  },
  {
   "cell_type": "code",
   "execution_count": null,
   "metadata": {},
   "outputs": [],
   "source": [
    "# change the value of load converangence tolerance back to 0.5\n",
    "building.Loads_Convergence_Tolerance_Value=0.5"
   ]
  },
  {
   "cell_type": "markdown",
   "metadata": {},
   "source": [
    "## edit idf with json in eppy"
   ]
  },
  {
   "cell_type": "code",
   "execution_count": null,
   "metadata": {},
   "outputs": [],
   "source": [
    "import eppy.json_functions as json_functions"
   ]
  },
  {
   "cell_type": "code",
   "execution_count": null,
   "metadata": {},
   "outputs": [],
   "source": [
    "## using json to update idf file\n",
    "json_str = {\"idf.VERSION..Version_Identifier\":9.2,\n",
    "            \"idf.SIMULATIONCONTROL..Do_Plant_Sizing_Calculation\": \"No\",\n",
    "            \"idf.BUILDING.Building.North_Axis\": 52,\n",
    "            }\n",
    "json_functions.updateidf(idf,json_str)"
   ]
  },
  {
   "cell_type": "code",
   "execution_count": null,
   "metadata": {},
   "outputs": [],
   "source": [
    "# view the type of json_str\n",
    "print(type(json_str))"
   ]
  },
  {
   "cell_type": "code",
   "execution_count": null,
   "metadata": {},
   "outputs": [],
   "source": [
    "#view the idf after modified\n",
    "idf.printidf()"
   ]
  },
  {
   "cell_type": "markdown",
   "metadata": {},
   "source": [
    "## zone\n"
   ]
  },
  {
   "cell_type": "code",
   "execution_count": null,
   "metadata": {},
   "outputs": [],
   "source": [
    "#  show all zones\n",
    "allzone=idf.idfobjects[\"zone\".upper()]\n",
    "allzone"
   ]
  },
  {
   "cell_type": "code",
   "execution_count": null,
   "metadata": {},
   "outputs": [],
   "source": [
    "# view first zone in the list \n",
    "zone0=allzone[0]\n",
    "zone0"
   ]
  },
  {
   "cell_type": "code",
   "execution_count": null,
   "metadata": {},
   "outputs": [],
   "source": [
    "# display zone1 volume and area\n",
    "from eppy import modeleditor\n",
    "print (\"volume = %s\" % (zone0.Volume, ))\n",
    "area1 = modeleditor.zonearea(idf, zone0.Name)\n",
    "print ('area = %s ' % (area1,))"
   ]
  },
  {
   "cell_type": "markdown",
   "metadata": {},
   "source": [
    "## run idf"
   ]
  },
  {
   "cell_type": "code",
   "execution_count": null,
   "metadata": {},
   "outputs": [],
   "source": [
    "idf.run()\n",
    "#idf.save()\n",
    "#idf.saveas()"
   ]
  }
 ],
 "metadata": {
  "kernelspec": {
   "display_name": "Python 3",
   "language": "python",
   "name": "python3"
  },
  "language_info": {
   "codemirror_mode": {
    "name": "ipython",
    "version": 3
   },
   "file_extension": ".py",
   "mimetype": "text/x-python",
   "name": "python",
   "nbconvert_exporter": "python",
   "pygments_lexer": "ipython3",
   "version": "3.7.7"
  }
 },
 "nbformat": 4,
 "nbformat_minor": 4
}
