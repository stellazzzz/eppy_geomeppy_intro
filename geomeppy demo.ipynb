{
 "cells": [
  {
   "cell_type": "code",
   "execution_count": null,
   "metadata": {},
   "outputs": [],
   "source": [
    "### First you need to install geomeppy if you haven't\n",
    "### In your conda environment, type: pip install geomeppy\n",
    "### Now we can run geomeppy in python3 environmemnt\n",
    "### Edit the filepaths for setiddname(''),IDF(''),epw('') accordingly as the filepaths on your computer\n",
    "from geomeppy import IDF\n",
    "IDF.setiddname('/Applications/EnergyPlus-9-1-0/Energy+.idd')\n",
    "idf = IDF('/Applications/EnergyPlus-9-1-0/ExampleFiles/Minimal.idf')\n",
    "idf.epw = 'USA_CO_Golden-NREL.724666_TMY3.epw'\n",
    "idf.add_block(\n",
    "    name='Test Block1',\n",
    "    coordinates=[(10,0),(10,5),(0,5),(0,0)],\n",
    "    height=5,\n",
    "    num_stories=2,\n",
    "    zoning=\"by_storey\")\n",
    "idf.add_block(\n",
    "    name='Test Block2',\n",
    "    coordinates=[(10,5),(10,10),(0,10),(0,5)],\n",
    "    height=9,\n",
    "    zoning=\"core/perim\",\n",
    "    perim_depth=2.0)\n",
    "### you can rotate the blocks in defined degree\n",
    "#idf.rotate(90)\n",
    "### you can scale the blocks in defined axis\n",
    "#idf.scale(2,axes='zy')\n",
    "### do instersect_match before set_wwr\n",
    "idf.intersect_match()\n",
    "### you could set defualt construction to the surfaces\n",
    "idf.set_default_constructions()\n",
    "###  view  all construction of idf\n",
    "idf.idfobjects['construction'.upper()]\n",
    "## import construction from other idf\n",
    "from geomeppy.extractor import copy_constructions\n",
    "src_idf = IDF('/Applications/EnergyPlus-9-1-0/ExampleFiles/WindowTestsSimple.idf')\n",
    "copy_constructions(source_idf=src_idf, target_idf=idf)\n",
    "### now the construction of windows has been imported, view all the construction again\n",
    "idf.idfobjects[\"CONSTRUCTION\"]\n",
    "### create windows with construction specified\n",
    "idf.set_wwr(0.25,construction=\"DOUBLE PANE WITH SCREEN\")\n",
    "### view  all windows and their construction\n",
    "allwindow=idf.idfobjects['FenestrationSurface:Detailed'.upper()]\n",
    "allwindow\n",
    "### change the all the windows' construction to Double Pane Window\n",
    "for window in idf.idfobjects['FenestrationSurface:Detailed'.upper()]:\n",
    "    window.Construction_Name='DOUBLE PANE WINDOW'\n",
    "    print (window)\n",
    "#idf.view_model()\n",
    "#idf.printidf()\n",
    "idf.run()\n",
    "#idf.save()\n",
    "#idf.saveas()"
   ]
  }
 ],
 "metadata": {
  "kernelspec": {
   "display_name": "Python 3",
   "language": "python",
   "name": "python3"
  },
  "language_info": {
   "codemirror_mode": {
    "name": "ipython",
    "version": 3
   },
   "file_extension": ".py",
   "mimetype": "text/x-python",
   "name": "python",
   "nbconvert_exporter": "python",
   "pygments_lexer": "ipython3",
   "version": "3.7.7"
  }
 },
 "nbformat": 4,
 "nbformat_minor": 4
}
